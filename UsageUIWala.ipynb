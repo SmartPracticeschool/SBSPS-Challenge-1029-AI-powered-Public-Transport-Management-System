{
 "cells": [
  {
   "cell_type": "code",
   "execution_count": 1,
   "metadata": {},
   "outputs": [],
   "source": [
    "import UI_keliye as u"
   ]
  },
  {
   "cell_type": "code",
   "execution_count": null,
   "metadata": {},
   "outputs": [],
   "source": [
    "\"\"\"RUN THIS SHIT TWICE\"\"\""
   ]
  },
  {
   "cell_type": "code",
   "execution_count": 2,
   "metadata": {},
   "outputs": [
    {
     "name": "stdout",
     "output_type": "stream",
     "text": [
      "4 AT 00:00\n",
      "3 AT 01:00\n",
      "3 AT 02:00\n",
      "4 AT 03:00\n",
      "5 AT 04:00\n",
      "7 AT 05:00\n",
      "9 AT 06:00\n",
      "11 AT 07:00\n",
      "14 AT 08:00\n",
      "16 AT 09:00\n",
      "17 AT 10:00\n",
      "18 AT 11:00\n",
      "19 AT 12:00\n",
      "20 AT 13:00\n",
      "20 AT 14:00\n",
      "18 AT 15:00\n",
      "17 AT 16:00\n",
      "16 AT 17:00\n",
      "16 AT 18:00\n",
      "14 AT 19:00\n",
      "12 AT 20:00\n",
      "10 AT 21:00\n",
      "9 AT 22:00\n",
      "8 AT 23:00\n"
     ]
    },
    {
     "data": {
      "text/plain": [
       "[[4, 0],\n",
       " [3, 1],\n",
       " [3, 2],\n",
       " [4, 3],\n",
       " [5, 4],\n",
       " [7, 5],\n",
       " [9, 6],\n",
       " [11, 7],\n",
       " [14, 8],\n",
       " [16, 9],\n",
       " [17, 10],\n",
       " [18, 11],\n",
       " [19, 12],\n",
       " [20, 13],\n",
       " [20, 14],\n",
       " [18, 15],\n",
       " [17, 16],\n",
       " [16, 17],\n",
       " [16, 18],\n",
       " [14, 19],\n",
       " [12, 20],\n",
       " [10, 21],\n",
       " [9, 22],\n",
       " [8, 23]]"
      ]
     },
     "execution_count": 2,
     "metadata": {},
     "output_type": "execute_result"
    }
   ],
   "source": [
    "u.get_static_timetable()"
   ]
  },
  {
   "cell_type": "code",
   "execution_count": 3,
   "metadata": {},
   "outputs": [
    {
     "name": "stdout",
     "output_type": "stream",
     "text": [
      "4 AT 00:00\n",
      "3 AT 01:00\n",
      "4 AT 02:00\n",
      "4 AT 03:00\n",
      "5 AT 04:00\n",
      "7 AT 05:00\n",
      "10 AT 06:00\n",
      "11 AT 07:00\n",
      "14 AT 08:00\n",
      "17 AT 09:00\n",
      "18 AT 10:00\n",
      "19 AT 11:00\n",
      "19 AT 12:00\n",
      "20 AT 13:00\n",
      "20 AT 14:00\n",
      "18 AT 15:00\n",
      "18 AT 16:00\n",
      "16 AT 17:00\n",
      "16 AT 18:00\n",
      "14 AT 19:00\n",
      "12 AT 20:00\n",
      "10 AT 21:00\n",
      "9 AT 22:00\n",
      "8 AT 23:00\n"
     ]
    },
    {
     "data": {
      "text/plain": [
       "[[4, 0],\n",
       " [3, 1],\n",
       " [4, 2],\n",
       " [4, 3],\n",
       " [5, 4],\n",
       " [7, 5],\n",
       " [10, 6],\n",
       " [11, 7],\n",
       " [14, 8],\n",
       " [17, 9],\n",
       " [18, 10],\n",
       " [19, 11],\n",
       " [19, 12],\n",
       " [20, 13],\n",
       " [20, 14],\n",
       " [18, 15],\n",
       " [18, 16],\n",
       " [16, 17],\n",
       " [16, 18],\n",
       " [14, 19],\n",
       " [12, 20],\n",
       " [10, 21],\n",
       " [9, 22],\n",
       " [8, 23]]"
      ]
     },
     "execution_count": 3,
     "metadata": {},
     "output_type": "execute_result"
    }
   ],
   "source": [
    "u.get_static_timetable()"
   ]
  },
  {
   "cell_type": "code",
   "execution_count": 5,
   "metadata": {},
   "outputs": [
    {
     "data": {
      "text/plain": [
       "'FOR DYNAMIC CHANGES 1st arg is time [0 to 23]'"
      ]
     },
     "execution_count": 5,
     "metadata": {},
     "output_type": "execute_result"
    }
   ],
   "source": [
    "\"\"\"FOR DYNAMIC CHANGES 1st arg is time [0 to 23]\"\"\""
   ]
  },
  {
   "cell_type": "code",
   "execution_count": 8,
   "metadata": {},
   "outputs": [
    {
     "name": "stdout",
     "output_type": "stream",
     "text": [
      "21 AT 00:00\n",
      "23 AT 01:00\n"
     ]
    },
    {
     "data": {
      "text/plain": [
       "[4,\n",
       " 3,\n",
       " 4,\n",
       " 4,\n",
       " 5,\n",
       " 21,\n",
       " 23,\n",
       " 11,\n",
       " 14,\n",
       " 17,\n",
       " 18,\n",
       " 19,\n",
       " 19,\n",
       " 20,\n",
       " 20,\n",
       " 18,\n",
       " 18,\n",
       " 16,\n",
       " 16,\n",
       " 14,\n",
       " 12,\n",
       " 10,\n",
       " 9,\n",
       " 8]"
      ]
     },
     "execution_count": 8,
     "metadata": {},
     "output_type": "execute_result"
    }
   ],
   "source": [
    "u.get_dynamic_timetable(5,u.prev_sch)"
   ]
  },
  {
   "cell_type": "code",
   "execution_count": null,
   "metadata": {},
   "outputs": [],
   "source": []
  }
 ],
 "metadata": {
  "kernelspec": {
   "display_name": "Python 3",
   "language": "python",
   "name": "python3"
  },
  "language_info": {
   "codemirror_mode": {
    "name": "ipython",
    "version": 3
   },
   "file_extension": ".py",
   "mimetype": "text/x-python",
   "name": "python",
   "nbconvert_exporter": "python",
   "pygments_lexer": "ipython3",
   "version": "3.8.2"
  }
 },
 "nbformat": 4,
 "nbformat_minor": 4
}
