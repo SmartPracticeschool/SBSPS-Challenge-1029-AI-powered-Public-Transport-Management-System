{
 "cells": [
  {
   "cell_type": "markdown",
   "metadata": {
    "colab_type": "text",
    "id": "HTCo4b_Lnu15"
   },
   "source": [
    "**Importing Required Libraries**"
   ]
  },
  {
   "cell_type": "code",
   "execution_count": 1,
   "metadata": {
    "colab": {},
    "colab_type": "code",
    "id": "nu7yLyQ0nXLH"
   },
   "outputs": [],
   "source": [
    "from tensorflow.keras.models import load_model\n",
    "import numpy as np\n",
    "import pandas as pd\n",
    "import matplotlib.pyplot as plt\n",
    "import pickle\n",
    "import os"
   ]
  },
  {
   "cell_type": "markdown",
   "metadata": {},
   "source": [
    "**Libraries required for connecting to IBM Db2 database on the cloud**\n"
   ]
  },
  {
   "cell_type": "code",
   "execution_count": 2,
   "metadata": {
    "pycharm": {
     "name": "#%%\n"
    }
   },
   "outputs": [
    {
     "name": "stdout",
     "output_type": "stream",
     "text": [
      "Requirement already satisfied: lazy in /home/mohitgurav/.local/lib/python3.8/site-packages (1.4)\n",
      "Requirement already satisfied: jaydebeapi in /home/mohitgurav/.local/lib/python3.8/site-packages (1.2.3)\n",
      "Requirement already satisfied: JPype1; python_version > \"2.7\" and platform_python_implementation != \"Jython\" in /home/mohitgurav/.local/lib/python3.8/site-packages (from jaydebeapi) (0.6.3)\n",
      "Found existing installation: ibmdbpy 0.1.6\n",
      "Uninstalling ibmdbpy-0.1.6:\n",
      "  Successfully uninstalled ibmdbpy-0.1.6\n",
      "Collecting ibmdbpy\n",
      "  Using cached ibmdbpy-0.1.6-py2.py3-none-any.whl (148 kB)\n",
      "Installing collected packages: ibmdbpy\n",
      "Successfully installed ibmdbpy-0.1.6\n",
      "--2020-06-29 19:03:49--  https://ibm.box.com/shared/static/lmhzyeslp1rqns04ue8dnhz2x7fb6nkc.zip\n",
      "Resolving ibm.box.com (ibm.box.com)... 185.235.236.197\n",
      "Connecting to ibm.box.com (ibm.box.com)|185.235.236.197|:443... connected.\n",
      "HTTP request sent, awaiting response... 301 Moved Permanently\n",
      "Location: /public/static/lmhzyeslp1rqns04ue8dnhz2x7fb6nkc.zip [following]\n",
      "--2020-06-29 19:03:50--  https://ibm.box.com/public/static/lmhzyeslp1rqns04ue8dnhz2x7fb6nkc.zip\n",
      "Reusing existing connection to ibm.box.com:443.\n",
      "HTTP request sent, awaiting response... 301 Moved Permanently\n",
      "Location: https://ibm.ent.box.com/public/static/lmhzyeslp1rqns04ue8dnhz2x7fb6nkc.zip [following]\n",
      "--2020-06-29 19:03:50--  https://ibm.ent.box.com/public/static/lmhzyeslp1rqns04ue8dnhz2x7fb6nkc.zip\n",
      "Resolving ibm.ent.box.com (ibm.ent.box.com)... 185.235.236.201\n",
      "Connecting to ibm.ent.box.com (ibm.ent.box.com)|185.235.236.201|:443... connected.\n",
      "HTTP request sent, awaiting response... 302 Found\n",
      "Location: https://public.boxcloud.com/d/1/b1!9n-gWdaPSnLGOpXT-qf6hZWk80-M_q5s95_QptFe9C1ArXR5BxTVD5W3Bw3FdQB5v_ZG9J9NcVVGzE0xARPiAOM1FGBLC_9AhZ9kKJyq53bHSLTDXqetbEqFLIg1JynNq6KGW-764tZ5FBUECG_YnQxITE988FZf_yrd61Yt4G7zCbkJIP2w7K1GU96C3W36VJUWaslugTusrV0KzQBSNq-11wgkv9oM-CcL5jj2zu1PWgA-FWEvyf7OyPyQARFWJpeVoHwXL0A9xCSCc5KBtteGCSCvK5aME5-piwCWS4ISim4N8SFNiCa3Wd0yQ7c2hcGpCpWo_SyYkOrX_uFMw8HbgFL3lvw8F0xTPgz92y_ukdheeiJdgQGTFLwoB80Zt2Gga62LbL1jS-DJzfmC5a_qtHbd0a3H_KdJIyLhYAub0R0ttIQiLzPRY7Ers79eAqgYEuOD2Culj4RSxgsYatCYc8JEk-yyngyG75uK49CJoULsfu28KZtS9FeDOCNFclm-soqKiSToJTMiCg31-YB5PpU--eozvag-H9plWS6_zdoCxS0q0xYO4-QJnBlLZ0kIl1w_KCgpdds5F6JDyVN436FSw4UrHGGgx1tZsZIThUgG19S8Gv8awMe_L1hB1hzYYJnxTc_sJzWQeJe3RVJF6FjA2xeUNmC-EMMaCAMsM5DEKxbLEx0oQex0idV4zDgN7toN1ZYRkJcP4WHG0o08Xq51OzALC5HHziwGIkABj1BdGOCyVwqkp25LK3Tii9xsKT4mxCEQ5m6TYCaQJFqutzmv3VobCbKw2hyrgkvb032CJkOsHGVjVXz7ztw3X7pKi1kLNTC07I_zlpiIehOw_cX74uYkNFrhnUdVtXfb0b5oxUhIZHP7Lqg72Yw5JmUQWcpwTdCM6FrgWYnrn-LnFhEvQDv8EIDXxEWUtrHlm7WYvscd6NRyz6IMXT5j8-a8aMbxCEGtnW3K32jlpMHyONSQxWZeoIqfrkF5-zG2hT0PC5bCzQ0r8v18303rNR4UMesBroeIOgfB-XRZyUZJ0aXaKGteTXOQBwQS0LDqVRb635tpWchJW5n3tkEmxoBTKlGRwoPLGz1VN00h0P7hf6YMIBI4xObrYu_Opchf4Et9AO-mWHlvWYfa4iYGXv5imsJ0xt6pmUxR2kbCW-_XKTf9MF1IjgdIcPSxFbJuNcSlgTpbjUIVCumZtevnr9I3_Trejp-EP9cKasmAILCa4Zayv-B0ID9W0SSft37zt1qg00kbB6iCnTlL-P-WMbvwn2xgfelHkbYn04ycCrzf5URkJ2k--XYdim96StsQdGjY9ZInICx4CMPGSdzuuj8xt109_CXOmzdX3YuEd-iRzMkZlog56al7UJAh9fDER_XqvfduXB3esbnhLOWPvZaMLyhy4S1GCb5Hc7g2V6hF6nCzBJqc/download [following]\n",
      "--2020-06-29 19:03:53--  https://public.boxcloud.com/d/1/b1!9n-gWdaPSnLGOpXT-qf6hZWk80-M_q5s95_QptFe9C1ArXR5BxTVD5W3Bw3FdQB5v_ZG9J9NcVVGzE0xARPiAOM1FGBLC_9AhZ9kKJyq53bHSLTDXqetbEqFLIg1JynNq6KGW-764tZ5FBUECG_YnQxITE988FZf_yrd61Yt4G7zCbkJIP2w7K1GU96C3W36VJUWaslugTusrV0KzQBSNq-11wgkv9oM-CcL5jj2zu1PWgA-FWEvyf7OyPyQARFWJpeVoHwXL0A9xCSCc5KBtteGCSCvK5aME5-piwCWS4ISim4N8SFNiCa3Wd0yQ7c2hcGpCpWo_SyYkOrX_uFMw8HbgFL3lvw8F0xTPgz92y_ukdheeiJdgQGTFLwoB80Zt2Gga62LbL1jS-DJzfmC5a_qtHbd0a3H_KdJIyLhYAub0R0ttIQiLzPRY7Ers79eAqgYEuOD2Culj4RSxgsYatCYc8JEk-yyngyG75uK49CJoULsfu28KZtS9FeDOCNFclm-soqKiSToJTMiCg31-YB5PpU--eozvag-H9plWS6_zdoCxS0q0xYO4-QJnBlLZ0kIl1w_KCgpdds5F6JDyVN436FSw4UrHGGgx1tZsZIThUgG19S8Gv8awMe_L1hB1hzYYJnxTc_sJzWQeJe3RVJF6FjA2xeUNmC-EMMaCAMsM5DEKxbLEx0oQex0idV4zDgN7toN1ZYRkJcP4WHG0o08Xq51OzALC5HHziwGIkABj1BdGOCyVwqkp25LK3Tii9xsKT4mxCEQ5m6TYCaQJFqutzmv3VobCbKw2hyrgkvb032CJkOsHGVjVXz7ztw3X7pKi1kLNTC07I_zlpiIehOw_cX74uYkNFrhnUdVtXfb0b5oxUhIZHP7Lqg72Yw5JmUQWcpwTdCM6FrgWYnrn-LnFhEvQDv8EIDXxEWUtrHlm7WYvscd6NRyz6IMXT5j8-a8aMbxCEGtnW3K32jlpMHyONSQxWZeoIqfrkF5-zG2hT0PC5bCzQ0r8v18303rNR4UMesBroeIOgfB-XRZyUZJ0aXaKGteTXOQBwQS0LDqVRb635tpWchJW5n3tkEmxoBTKlGRwoPLGz1VN00h0P7hf6YMIBI4xObrYu_Opchf4Et9AO-mWHlvWYfa4iYGXv5imsJ0xt6pmUxR2kbCW-_XKTf9MF1IjgdIcPSxFbJuNcSlgTpbjUIVCumZtevnr9I3_Trejp-EP9cKasmAILCa4Zayv-B0ID9W0SSft37zt1qg00kbB6iCnTlL-P-WMbvwn2xgfelHkbYn04ycCrzf5URkJ2k--XYdim96StsQdGjY9ZInICx4CMPGSdzuuj8xt109_CXOmzdX3YuEd-iRzMkZlog56al7UJAh9fDER_XqvfduXB3esbnhLOWPvZaMLyhy4S1GCb5Hc7g2V6hF6nCzBJqc/download\n",
      "Resolving public.boxcloud.com (public.boxcloud.com)... 185.235.236.200\n",
      "Connecting to public.boxcloud.com (public.boxcloud.com)|185.235.236.200|:443... connected.\n",
      "HTTP request sent, awaiting response... 200 OK\n",
      "Length: 3411524 (3.3M) [application/zip]\n",
      "Saving to: ‘/home/mohitgurav/.local/lib/python3.8/site-packages/ibmdbpy/db2jcc4.jar’\n",
      "\n",
      "/home/mohitgurav/.l 100%[===================>]   3.25M   328KB/s    in 17s     \n",
      "\n",
      "2020-06-29 19:04:13 (194 KB/s) - ‘/home/mohitgurav/.local/lib/python3.8/site-packages/ibmdbpy/db2jcc4.jar’ saved [3411524/3411524]\n",
      "\n"
     ]
    }
   ],
   "source": [
    "!pip3 install --user lazy\n",
    "!pip3 install --user jaydebeapi\n",
    "!pip3 uninstall --yes ibmdbpy\n",
    "!pip3 install ibmdbpy --user --ignore-installed --no-deps\n",
    "!wget -O $HOME/.local/lib/python3.8/site-packages/ibmdbpy/db2jcc4.jar https://ibm.box.com/shared/static/lmhzyeslp1rqns04ue8dnhz2x7fb6nkc.zip"
   ]
  },
  {
   "cell_type": "markdown",
   "metadata": {
    "colab_type": "text",
    "id": "wytVp7LBnzaa"
   },
   "source": [
    "**Setting bus limt**"
   ]
  },
  {
   "cell_type": "code",
   "execution_count": 3,
   "metadata": {
    "colab": {},
    "colab_type": "code",
    "id": "ZIwHqqxonXLM"
   },
   "outputs": [],
   "source": [
    "bus_limit=200"
   ]
  },
  {
   "cell_type": "markdown",
   "metadata": {
    "colab_type": "text",
    "id": "44xQ5Q3Hn-KN"
   },
   "source": [
    "**Loading various models for accurate and specialized time series prediction**\n",
    "\n",
    "1.   Static Model\n",
    "2.   Dynamic Model\n",
    "\n"
   ]
  },
  {
   "cell_type": "code",
   "execution_count": 4,
   "metadata": {
    "colab": {},
    "colab_type": "code",
    "id": "_DEOW9MCnXLV"
   },
   "outputs": [
    {
     "name": "stderr",
     "output_type": "stream",
     "text": [
      "/home/mohitgurav/.local/lib/python3.8/site-packages/sklearn/base.py:329: UserWarning: Trying to unpickle estimator MinMaxScaler from version 0.22.2.post1 when using version 0.23.1. This might lead to breaking code or invalid results. Use at your own risk.\n",
      "  warnings.warn(\n"
     ]
    }
   ],
   "source": [
    "static_model=load_model(\"model24hrspredict.h5\")\n",
    "dynamic_model=load_model(\"model2hrspredict(6hrsinput).h5\")\n",
    "static_scaler=pickle.load(open(\"scalernew.pkl\",'rb'))\n",
    "dynamic_scaler=pickle.load(open(\"scaler6hrswala.pkl\",'rb'))"
   ]
  },
  {
   "cell_type": "markdown",
   "metadata": {
    "colab_type": "text",
    "id": "ResJfSkvovIH"
   },
   "source": [
    "**Function to print timetable for the day**"
   ]
  },
  {
   "cell_type": "code",
   "execution_count": 5,
   "metadata": {
    "colab": {},
    "colab_type": "code",
    "id": "2WxW7-_LnXLZ"
   },
   "outputs": [],
   "source": [
    "def schedule(prediction):\n",
    "    sch=[]\n",
    "    for i,j in enumerate(prediction):\n",
    "        print(f\"{int(round(j[0]/bus_limit))} AT {str(i).zfill(2)}:00\")\n",
    "        sch.append([int(round(j[0]/bus_limit)),i])\n",
    "    return sch"
   ]
  },
  {
   "cell_type": "markdown",
   "metadata": {
    "colab_type": "text",
    "id": "4oQoTdtio74P"
   },
   "source": [
    "**Function to handle special events which might have an effect on public transport**"
   ]
  },
  {
   "cell_type": "code",
   "execution_count": 6,
   "metadata": {
    "colab": {},
    "colab_type": "code",
    "id": "gZh08m-VnXLd"
   },
   "outputs": [],
   "source": [
    "def special_events(prediction):\n",
    "    start=prediction['START']\n",
    "    stop=prediction['STOP']\n",
    "    magnitude=prediction['MAGNITUDE']\n",
    "    prediction['TIMESERIES'][start:stop]=prediction['TIMESERIES'][start:stop]*(1.0+magnitude/100)\n",
    "    return prediction"
   ]
  },
  {
   "cell_type": "markdown",
   "metadata": {
    "colab_type": "text",
    "id": "YPwFl36-nbRW"
   },
   "source": [
    "**Function to predict static time table for transport mobiles**\n",
    "\n",
    "**Inputs:**\n",
    "*   Data of past 24 hours\n",
    "*   Dictionary for special timeseries\n",
    "\n",
    "**Output:**\n",
    "*   Schedule for the day"
   ]
  },
  {
   "cell_type": "code",
   "execution_count": 7,
   "metadata": {
    "colab": {},
    "colab_type": "code",
    "id": "HKyPP3gfnXLi"
   },
   "outputs": [],
   "source": [
    "def static_time_table(data,special_timeseries=None):\n",
    "    y_pred=static_model.predict(data)[0]\n",
    "    if special_timeseries!=None:\n",
    "        special_timeseries['TIMESERIES']=y_pred[0]\n",
    "        y_pred=special_events(special_timeseries)['TIMESERIES']\n",
    "    y_pred=static_scaler.inverse_transform(y_pred.reshape(-1,1))\n",
    "    number=schedule(y_pred)\n",
    "    return [number,y_pred]"
   ]
  },
  {
   "cell_type": "markdown",
   "metadata": {
    "pycharm": {
     "name": "#%% md\n"
    }
   },
   "source": [
    "**Connecting to IBM Db2 database on the cloud**"
   ]
  },
  {
   "cell_type": "code",
   "execution_count": 18,
   "metadata": {},
   "outputs": [],
   "source": [
    "from db2 import Db2\n",
    "db2 = Db2(table_name='INTERSTATE_TRAFFIC')"
   ]
  },
  {
   "cell_type": "code",
   "execution_count": 19,
   "metadata": {
    "pycharm": {
     "name": "#%%\n"
    }
   },
   "outputs": [
    {
     "data": {
      "text/plain": [
       "array([ 696,  364,  335,  444,  802, 1175, 2002, 2882, 3701, 4049, 4429,\n",
       "       4547, 4380, 4380, 4302, 4302, 4283, 4132, 3947, 3543, 2781, 2159,\n",
       "       1450,  954])"
      ]
     },
     "execution_count": 19,
     "metadata": {},
     "output_type": "execute_result"
    }
   ],
   "source": [
    "db2.last24hours()"
   ]
  },
  {
   "cell_type": "code",
   "execution_count": 20,
   "metadata": {
    "pycharm": {
     "name": "#%%\n"
    }
   },
   "outputs": [
    {
     "data": {
      "text/plain": [
       "array([3947, 3543, 2781, 2159, 1450,  954])"
      ]
     },
     "execution_count": 20,
     "metadata": {},
     "output_type": "execute_result"
    }
   ],
   "source": [
    "db2.last6hours()"
   ]
  },
  {
   "cell_type": "code",
   "execution_count": 21,
   "metadata": {
    "pycharm": {
     "name": "#%%\n"
    }
   },
   "outputs": [
    {
     "data": {
      "text/html": [
       "<div>\n",
       "<style scoped>\n",
       "    .dataframe tbody tr th:only-of-type {\n",
       "        vertical-align: middle;\n",
       "    }\n",
       "\n",
       "    .dataframe tbody tr th {\n",
       "        vertical-align: top;\n",
       "    }\n",
       "\n",
       "    .dataframe thead th {\n",
       "        text-align: right;\n",
       "    }\n",
       "</style>\n",
       "<table border=\"1\" class=\"dataframe\">\n",
       "  <thead>\n",
       "    <tr style=\"text-align: right;\">\n",
       "      <th></th>\n",
       "      <th>holiday</th>\n",
       "      <th>temp</th>\n",
       "      <th>rain_1h</th>\n",
       "      <th>snow_1h</th>\n",
       "      <th>clouds_all</th>\n",
       "      <th>weather_main</th>\n",
       "      <th>weather_description</th>\n",
       "      <th>date_time</th>\n",
       "      <th>traffic_volume</th>\n",
       "    </tr>\n",
       "  </thead>\n",
       "  <tbody>\n",
       "    <tr>\n",
       "      <th>0</th>\n",
       "      <td>None</td>\n",
       "      <td>288.28</td>\n",
       "      <td>0.0</td>\n",
       "      <td>0.0</td>\n",
       "      <td>40</td>\n",
       "      <td>Clouds</td>\n",
       "      <td>scattered clouds</td>\n",
       "      <td>2012-10-02 09:00:00</td>\n",
       "      <td>5545</td>\n",
       "    </tr>\n",
       "    <tr>\n",
       "      <th>1</th>\n",
       "      <td>None</td>\n",
       "      <td>289.36</td>\n",
       "      <td>0.0</td>\n",
       "      <td>0.0</td>\n",
       "      <td>75</td>\n",
       "      <td>Clouds</td>\n",
       "      <td>broken clouds</td>\n",
       "      <td>2012-10-02 10:00:00</td>\n",
       "      <td>4516</td>\n",
       "    </tr>\n",
       "    <tr>\n",
       "      <th>2</th>\n",
       "      <td>None</td>\n",
       "      <td>289.58</td>\n",
       "      <td>0.0</td>\n",
       "      <td>0.0</td>\n",
       "      <td>90</td>\n",
       "      <td>Clouds</td>\n",
       "      <td>overcast clouds</td>\n",
       "      <td>2012-10-02 11:00:00</td>\n",
       "      <td>4767</td>\n",
       "    </tr>\n",
       "    <tr>\n",
       "      <th>3</th>\n",
       "      <td>None</td>\n",
       "      <td>290.13</td>\n",
       "      <td>0.0</td>\n",
       "      <td>0.0</td>\n",
       "      <td>90</td>\n",
       "      <td>Clouds</td>\n",
       "      <td>overcast clouds</td>\n",
       "      <td>2012-10-02 12:00:00</td>\n",
       "      <td>5026</td>\n",
       "    </tr>\n",
       "    <tr>\n",
       "      <th>4</th>\n",
       "      <td>None</td>\n",
       "      <td>291.14</td>\n",
       "      <td>0.0</td>\n",
       "      <td>0.0</td>\n",
       "      <td>75</td>\n",
       "      <td>Clouds</td>\n",
       "      <td>broken clouds</td>\n",
       "      <td>2012-10-02 13:00:00</td>\n",
       "      <td>4918</td>\n",
       "    </tr>\n",
       "  </tbody>\n",
       "</table>\n",
       "</div>"
      ],
      "text/plain": [
       "  holiday    temp  rain_1h  snow_1h  clouds_all weather_main  \\\n",
       "0    None  288.28      0.0      0.0          40       Clouds   \n",
       "1    None  289.36      0.0      0.0          75       Clouds   \n",
       "2    None  289.58      0.0      0.0          90       Clouds   \n",
       "3    None  290.13      0.0      0.0          90       Clouds   \n",
       "4    None  291.14      0.0      0.0          75       Clouds   \n",
       "\n",
       "  weather_description            date_time  traffic_volume  \n",
       "0    scattered clouds  2012-10-02 09:00:00            5545  \n",
       "1       broken clouds  2012-10-02 10:00:00            4516  \n",
       "2     overcast clouds  2012-10-02 11:00:00            4767  \n",
       "3     overcast clouds  2012-10-02 12:00:00            5026  \n",
       "4       broken clouds  2012-10-02 13:00:00            4918  "
      ]
     },
     "execution_count": 21,
     "metadata": {},
     "output_type": "execute_result"
    }
   ],
   "source": [
    "db2.ida_traffic_pd.head()"
   ]
  },
  {
   "cell_type": "markdown",
   "metadata": {
    "pycharm": {
     "name": "#%% md\n"
    }
   },
   "source": [
    "**Data cleaning**"
   ]
  },
  {
   "cell_type": "code",
   "execution_count": 12,
   "metadata": {},
   "outputs": [
    {
     "data": {
      "text/plain": [
       "array([3947, 3543, 2781, 2159, 1450,  954])"
      ]
     },
     "execution_count": 12,
     "metadata": {},
     "output_type": "execute_result"
    }
   ],
   "source": [
    "db2.last6hours()"
   ]
  },
  {
   "cell_type": "code",
   "execution_count": 13,
   "metadata": {},
   "outputs": [
    {
     "data": {
      "text/html": [
       "<div>\n",
       "<style scoped>\n",
       "    .dataframe tbody tr th:only-of-type {\n",
       "        vertical-align: middle;\n",
       "    }\n",
       "\n",
       "    .dataframe tbody tr th {\n",
       "        vertical-align: top;\n",
       "    }\n",
       "\n",
       "    .dataframe thead th {\n",
       "        text-align: right;\n",
       "    }\n",
       "</style>\n",
       "<table border=\"1\" class=\"dataframe\">\n",
       "  <thead>\n",
       "    <tr style=\"text-align: right;\">\n",
       "      <th></th>\n",
       "      <th>holiday</th>\n",
       "      <th>temp</th>\n",
       "      <th>rain_1h</th>\n",
       "      <th>snow_1h</th>\n",
       "      <th>clouds_all</th>\n",
       "      <th>weather_main</th>\n",
       "      <th>weather_description</th>\n",
       "      <th>date_time</th>\n",
       "      <th>traffic_volume</th>\n",
       "    </tr>\n",
       "  </thead>\n",
       "  <tbody>\n",
       "    <tr>\n",
       "      <th>0</th>\n",
       "      <td>None</td>\n",
       "      <td>288.28</td>\n",
       "      <td>0.0</td>\n",
       "      <td>0.0</td>\n",
       "      <td>40</td>\n",
       "      <td>Clouds</td>\n",
       "      <td>scattered clouds</td>\n",
       "      <td>2012-10-02 09:00:00</td>\n",
       "      <td>5545</td>\n",
       "    </tr>\n",
       "    <tr>\n",
       "      <th>1</th>\n",
       "      <td>None</td>\n",
       "      <td>289.36</td>\n",
       "      <td>0.0</td>\n",
       "      <td>0.0</td>\n",
       "      <td>75</td>\n",
       "      <td>Clouds</td>\n",
       "      <td>broken clouds</td>\n",
       "      <td>2012-10-02 10:00:00</td>\n",
       "      <td>4516</td>\n",
       "    </tr>\n",
       "    <tr>\n",
       "      <th>2</th>\n",
       "      <td>None</td>\n",
       "      <td>289.58</td>\n",
       "      <td>0.0</td>\n",
       "      <td>0.0</td>\n",
       "      <td>90</td>\n",
       "      <td>Clouds</td>\n",
       "      <td>overcast clouds</td>\n",
       "      <td>2012-10-02 11:00:00</td>\n",
       "      <td>4767</td>\n",
       "    </tr>\n",
       "    <tr>\n",
       "      <th>3</th>\n",
       "      <td>None</td>\n",
       "      <td>290.13</td>\n",
       "      <td>0.0</td>\n",
       "      <td>0.0</td>\n",
       "      <td>90</td>\n",
       "      <td>Clouds</td>\n",
       "      <td>overcast clouds</td>\n",
       "      <td>2012-10-02 12:00:00</td>\n",
       "      <td>5026</td>\n",
       "    </tr>\n",
       "    <tr>\n",
       "      <th>4</th>\n",
       "      <td>None</td>\n",
       "      <td>291.14</td>\n",
       "      <td>0.0</td>\n",
       "      <td>0.0</td>\n",
       "      <td>75</td>\n",
       "      <td>Clouds</td>\n",
       "      <td>broken clouds</td>\n",
       "      <td>2012-10-02 13:00:00</td>\n",
       "      <td>4918</td>\n",
       "    </tr>\n",
       "  </tbody>\n",
       "</table>\n",
       "</div>"
      ],
      "text/plain": [
       "  holiday    temp  rain_1h  snow_1h  clouds_all weather_main  \\\n",
       "0    None  288.28      0.0      0.0          40       Clouds   \n",
       "1    None  289.36      0.0      0.0          75       Clouds   \n",
       "2    None  289.58      0.0      0.0          90       Clouds   \n",
       "3    None  290.13      0.0      0.0          90       Clouds   \n",
       "4    None  291.14      0.0      0.0          75       Clouds   \n",
       "\n",
       "  weather_description            date_time  traffic_volume  \n",
       "0    scattered clouds  2012-10-02 09:00:00            5545  \n",
       "1       broken clouds  2012-10-02 10:00:00            4516  \n",
       "2     overcast clouds  2012-10-02 11:00:00            4767  \n",
       "3     overcast clouds  2012-10-02 12:00:00            5026  \n",
       "4       broken clouds  2012-10-02 13:00:00            4918  "
      ]
     },
     "execution_count": 13,
     "metadata": {},
     "output_type": "execute_result"
    }
   ],
   "source": [
    "db2.ida_traffic_pd.head()"
   ]
  },
  {
   "cell_type": "markdown",
   "metadata": {
    "colab_type": "text",
    "id": "btFkNX5GngAX"
   },
   "source": [
    "**Data cleaning**"
   ]
  },
  {
   "cell_type": "code",
   "execution_count": 8,
   "metadata": {
    "colab": {},
    "colab_type": "code",
    "id": "BX78wQs2nXLn"
   },
   "outputs": [],
   "source": [
    "data=pd.read_csv(\"../Dataset/Metro_Interstate_Traffic_Volume.csv\")\n",
    "data['date_time']=pd.to_datetime(data['date_time'],infer_datetime_format=True)\n",
    "data=data.iloc[:,-2:]\n",
    "data=data.set_index('date_time')"
   ]
  },
  {
   "cell_type": "markdown",
   "metadata": {
    "colab_type": "text",
    "id": "sH8gJOEwwNik"
   },
   "source": [
    "**Noramlization**"
   ]
  },
  {
   "cell_type": "code",
   "execution_count": null,
   "metadata": {
    "colab": {},
    "colab_type": "code",
    "id": "IYlI9DidnXLr"
   },
   "outputs": [],
   "source": [
    "data['traffic_volume']=static_scaler.fit_transform(data['traffic_volume'].values.reshape(-1,1))"
   ]
  },
  {
   "cell_type": "markdown",
   "metadata": {
    "colab_type": "text",
    "id": "ZekZlvI6wlUe"
   },
   "source": [
    "**Timeseries Prediction**"
   ]
  },
  {
   "cell_type": "code",
   "execution_count": null,
   "metadata": {
    "colab": {},
    "colab_type": "code",
    "id": "toh1Z-stnXLx",
    "outputId": "e78a3dc5-f5ac-4ce5-f1f0-090ee37ee3ba"
   },
   "outputs": [
    {
     "name": "stdout",
     "output_type": "stream",
     "text": [
      "2 AT 00:00\n",
      "1 AT 01:00\n",
      "1 AT 02:00\n",
      "3 AT 03:00\n",
      "7 AT 04:00\n",
      "14 AT 05:00\n",
      "19 AT 06:00\n",
      "22 AT 07:00\n",
      "22 AT 08:00\n",
      "22 AT 09:00\n",
      "22 AT 10:00\n",
      "22 AT 11:00\n",
      "22 AT 12:00\n",
      "23 AT 13:00\n",
      "23 AT 14:00\n",
      "24 AT 15:00\n",
      "24 AT 16:00\n",
      "22 AT 17:00\n",
      "20 AT 18:00\n",
      "17 AT 19:00\n",
      "16 AT 20:00\n",
      "14 AT 21:00\n",
      "12 AT 22:00\n",
      "9 AT 23:00\n"
     ]
    },
    {
     "data": {
      "text/plain": [
       "<matplotlib.legend.Legend at 0x7ff31cc9daf0>"
      ]
     },
     "execution_count": 41,
     "metadata": {
      "tags": []
     },
     "output_type": "execute_result"
    },
    {
     "data": {
      "image/png": "[encoded data removed]",
      "text/plain": [
       "<Figure size 432x288 with 1 Axes>"
      ]
     },
     "metadata": {
      "needs_background": "light",
      "tags": []
     },
     "output_type": "display_data"
    }
   ],
   "source": [
    "num,pred=static_time_table(data['traffic_volume'][-24:].values.reshape(1,-1,1))\n",
    "plt.plot(pred,label='Prediction')\n",
    "plt.xlabel(\"Hours\")\n",
    "plt.ylabel(\"Expected Crowd\")\n",
    "plt.legend()"
   ]
  },
  {
   "cell_type": "markdown",
   "metadata": {
    "colab_type": "text",
    "id": "EfAkBSwpnpEy"
   },
   "source": [
    "**Checking the dynamic model**"
   ]
  },
  {
   "cell_type": "code",
   "execution_count": null,
   "metadata": {
    "colab": {},
    "colab_type": "code",
    "id": "-uQI9McOnXL3"
   },
   "outputs": [],
   "source": [
    "data['traffic_volume']=dynamic_scaler.fit_transform(data['traffic_volume'].values.reshape(-1,1))\n",
    "y_pred=dynamic_model.predict(data['traffic_volume'][-6:].values.reshape(1,-1,1))"
   ]
  },
  {
   "cell_type": "markdown",
   "metadata": {
    "colab_type": "text",
    "id": "mqCxNwdhz8k3"
   },
   "source": [
    "**Converting the normalized data into original scale**"
   ]
  },
  {
   "cell_type": "code",
   "execution_count": null,
   "metadata": {
    "colab": {},
    "colab_type": "code",
    "id": "GqIElQo-nXL6"
   },
   "outputs": [],
   "source": [
    "y_pred=dynamic_scaler.inverse_transform(y_pred)"
   ]
  },
  {
   "cell_type": "markdown",
   "metadata": {
    "colab_type": "text",
    "id": "ch-eLAd60Jd6"
   },
   "source": [
    "**Plotting the results**"
   ]
  },
  {
   "cell_type": "code",
   "execution_count": null,
   "metadata": {
    "colab": {},
    "colab_type": "code",
    "id": "TVq_4fROnXMF"
   },
   "outputs": [],
   "source": [
    "l=list(dynamic_scaler.inverse_transform(data['traffic_volume'][-6:].values.reshape(-1,1)))+list(y_pred[0])"
   ]
  },
  {
   "cell_type": "markdown",
   "metadata": {
    "colab_type": "text",
    "id": "ToaMHRlX0NtY"
   },
   "source": [
    "**Adding legend and labels to graph**"
   ]
  },
  {
   "cell_type": "code",
   "execution_count": null,
   "metadata": {
    "colab": {},
    "colab_type": "code",
    "id": "mhm2mZ3nnXMI",
    "outputId": "38a4a50f-50c0-471e-ac32-8ab7a5dfa9bb"
   },
   "outputs": [
    {
     "data": {
      "text/plain": [
       "<matplotlib.legend.Legend at 0x7ff31cd4bd90>"
      ]
     },
     "execution_count": 40,
     "metadata": {
      "tags": []
     },
     "output_type": "execute_result"
    },
    {
     "data": {
      "image/png": "[encoded data removed]",
      "text/plain": [
       "<Figure size 432x288 with 1 Axes>"
      ]
     },
     "metadata": {
      "needs_background": "light",
      "tags": []
     },
     "output_type": "display_data"
    }
   ],
   "source": [
    "plt.plot(l,color='black',label=\"prediction\")\n",
    "plt.axvline(5,color='r',label=\"start\")\n",
    "plt.axvline(7,color='blue',label=\"stop\")\n",
    "plt.xlabel(\"Hours\")\n",
    "plt.ylabel(\"Expected Crowd\")\n",
    "plt.legend()"
   ]
  },
  {
   "cell_type": "markdown",
   "metadata": {
    "colab_type": "text",
    "id": "v2UY278qx-Wt"
   },
   "source": [
    "**Function to predict dynamic changes in static timetable**\n",
    "\n",
    "**Inputs:**\n",
    "*   Data of past 6 hours\n",
    "\n",
    "**Output:**\n",
    "*   Crowd prediction for next 2 hours"
   ]
  },
  {
   "cell_type": "code",
   "execution_count": null,
   "metadata": {
    "colab": {},
    "colab_type": "code",
    "id": "UPIaJnhjnXMM"
   },
   "outputs": [],
   "source": [
    "def dynamic_changes(data,sch,start_time):\n",
    "    pred=dynamic_model.predict(data)[0]\n",
    "    pred=schedule(dynamic_scaler.inverse_transform(pred.reshape(-1,1)))\n",
    "    #temp=sch[start_time:start_time+2]\n",
    "    sch[start_time:start_time+2]=list(map(lambda x:x[0],pred))\n",
    "    return sch"
   ]
  },
  {
   "cell_type": "code",
   "execution_count": null,
   "metadata": {
    "colab": {},
    "colab_type": "code",
    "id": "YCWTaUGqnXMR",
    "outputId": "1b0f6f76-e052-4865-ff0a-f97165414dc1"
   },
   "outputs": [
    {
     "name": "stdout",
     "output_type": "stream",
     "text": [
      "3 AT 00:00\n",
      "2 AT 01:00\n"
     ]
    },
    {
     "data": {
      "text/plain": [
       "[3,\n",
       " 2,\n",
       " 1,\n",
       " 3,\n",
       " 7,\n",
       " 14,\n",
       " 19,\n",
       " 22,\n",
       " 22,\n",
       " 22,\n",
       " 22,\n",
       " 22,\n",
       " 22,\n",
       " 23,\n",
       " 23,\n",
       " 24,\n",
       " 24,\n",
       " 22,\n",
       " 20,\n",
       " 17,\n",
       " 16,\n",
       " 14,\n",
       " 12,\n",
       " 9]"
      ]
     },
     "execution_count": 28,
     "metadata": {
      "tags": []
     },
     "output_type": "execute_result"
    }
   ],
   "source": [
    "dynamic_changes(data['traffic_volume'][-6:].values.reshape(1,-1,1),list(map(lambda x:x[0],num)),0)"
   ]
  },
  {
   "cell_type": "code",
   "execution_count": null,
   "metadata": {
    "colab": {},
    "colab_type": "code",
    "id": "xYEN1_47nXMV"
   },
   "outputs": [],
   "source": []
  }
 ],
 "metadata": {
  "colab": {
   "collapsed_sections": [],
   "name": "Integration.ipynb",
   "provenance": []
  },
  "kernelspec": {
   "display_name": "Python 3",
   "language": "python",
   "name": "python3"
  },
  "language_info": {
   "codemirror_mode": {
    "name": "ipython",
    "version": 3
   },
   "file_extension": ".py",
   "mimetype": "text/x-python",
   "name": "python",
   "nbconvert_exporter": "python",
   "pygments_lexer": "ipython3",
   "version": "3.8.2"
  }
 },
 "nbformat": 4,
 "nbformat_minor": 1
}